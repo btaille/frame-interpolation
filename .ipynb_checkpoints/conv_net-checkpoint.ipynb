{
 "cells": [
  {
   "cell_type": "markdown",
   "metadata": {},
   "source": [
    "# Frame Interpolation Convolutional neural network"
   ]
  },
  {
   "cell_type": "code",
   "execution_count": 9,
   "metadata": {
    "collapsed": false
   },
   "outputs": [
    {
     "name": "stdout",
     "output_type": "stream",
     "text": [
      "3.5.2 |Anaconda 4.2.0 (64-bit)| (default, Jul  2 2016, 17:53:06) \n",
      "[GCC 4.4.7 20120313 (Red Hat 4.4.7-1)]\n"
     ]
    }
   ],
   "source": [
    "import numpy as np\n",
    "import tensorflow as tf\n",
    "import os\n",
    "import time\n",
    "# import cv2\n",
    "import sys\n",
    "\n",
    "print(sys.version)\n"
   ]
  },
  {
   "cell_type": "code",
   "execution_count": 14,
   "metadata": {
    "collapsed": true
   },
   "outputs": [],
   "source": [
    "_conv_layers = [6,96,96,128,128,128]\n",
    "_conv_layers = [128,128,128,96,96,3]\n",
    "_activation = 'relu'\n",
    "\n",
    "_h,_w = (128,384)  "
   ]
  },
  {
   "cell_type": "code",
   "execution_count": 15,
   "metadata": {
    "collapsed": true
   },
   "outputs": [],
   "source": [
    "def activation():\n",
    "    if _activation == 'sigmoid':\n",
    "        return tf.nn.sigmoid\n",
    "    if _activation == 'relu':\n",
    "        return tf.nn.relu\n",
    "    \n",
    "def weight_variable(shape):\n",
    "    initial = tf.truncated_normal(shape, stddev=0.1)\n",
    "    return tf.Variable(initial, name='weights')\n",
    "\n",
    "def bias_variable(shape):\n",
    "    initial = tf.truncated_normal(shape, stddev=0.1)\n",
    "    return tf.Variable(initial, name='bias')"
   ]
  },
  {
   "cell_type": "code",
   "execution_count": 16,
   "metadata": {
    "collapsed": true
   },
   "outputs": [],
   "source": [
    "def Conv_block(x,depth_input,depth_output,name):\n",
    "    with tf.variable_scope(name) as scope:\n",
    "        with tf.variable_scope('conv1') as scope:\n",
    "            W1 = weight_variable([3,3,depth_input,depth_output])\n",
    "            b1 = bias_variable([depth_output])             \n",
    "            preacti1 = tf.nn.bias_add(tf.nn.conv2d(x,W1,[1,1,1,1],padding='SAME'),b1)\n",
    "            conv1 = activation(preacti1,name=scope.name)\n",
    "        \n",
    "        with tf.variable_scope('conv2') as scope:\n",
    "            W2 = weight_variable([3,3,depth_output,depth_output])\n",
    "            b2 = bias_variable([depth_output])             \n",
    "            preacti2 = tf.nn.bias_add(tf.nn.conv2d(conv1,W2,[1,1,1,1],padding='SAME'),b2)\n",
    "            conv2 = activation(preacti2,name=scope.name)\n",
    "        \n",
    "        with tf.variable_scope('conv3') as scope:\n",
    "            W2 = weight_variable([3,3,depth_output,depth_output])\n",
    "            b3 = bias_variable([depth_output])             \n",
    "            preacti3 = tf.nn.bias_add(tf.nn.conv2d(conv2,W3,[1,1,1,1],padding='SAME'),b3)\n",
    "            conv3 = activation(preacti3,name=scope.name)\n",
    "            \n",
    "        pool = tf.nn.max_pool(conv3, ksize=[1, 2, 2, 1], strides=[1, 1, 1, 1],\n",
    "                         padding='SAME', name='pool1')\n",
    "    return pool\n",
    "        \n",
    "        \n",
    "def Deconv_block(x,depth_input,depth_output,shape_output,name):\n",
    "    with tf.variable_scope(name) as scope:\n",
    "        with tf.variable_scope('deconv1') as scope:\n",
    "            W1 = weight_variable([4,4,depth_input,depth_output])\n",
    "            b1 = bias_variable([depth_output])\n",
    "            convtr = tf.nn.conv2d_transpose(x,W1,shape_output,[1,2,2,1],padding='SAME')\n",
    "            preacti1 = tf.nn.bias_add(convtr,b1)\n",
    "            deconv1 = activation(preacti1,name=scope.name)\n",
    "        \n",
    "        with tf.variable_scope('deconv2') as scope:\n",
    "            W2 = weight_variable([3,3,depth_output,depth_output])\n",
    "            b2 = bias_variable([depth_output])             \n",
    "            preacti2 = tf.nn.bias_add(tf.nn.conv2d(deconv1,W2,[1,1,1,1],padding='SAME'),b2)\n",
    "            deonv2 = activation(preacti2,name=scope.name)\n",
    "        \n",
    "        with tf.variable_scope('deconv3') as scope:\n",
    "            W2 = weight_variable([3,3,depth_output,depth_output])\n",
    "            b3 = bias_variable([depth_output])             \n",
    "            preacti3 = tf.nn.bias_add(tf.nn.conv2d(deconv2,W3,[1,1,1,1],padding='SAME'),b3)\n",
    "            deconv3 = activation(preacti3,name=scope.name)\n",
    "        \n",
    "    return deconv3\n",
    "        \n",
    "            "
   ]
  },
  {
   "cell_type": "code",
   "execution_count": 17,
   "metadata": {
    "collapsed": false
   },
   "outputs": [],
   "source": [
    "sess = tf.InteractiveSession()\n",
    "\n",
    "x = tf.placeholder(\"float\",[None,6*_h*_w],name='x_input')\n",
    "\n",
    "\n",
    "    "
   ]
  },
  {
   "cell_type": "code",
   "execution_count": null,
   "metadata": {
    "collapsed": true
   },
   "outputs": [],
   "source": []
  }
 ],
 "metadata": {
  "anaconda-cloud": {},
  "kernelspec": {
   "display_name": "Python [conda root]",
   "language": "python",
   "name": "conda-root-py"
  },
  "language_info": {
   "codemirror_mode": {
    "name": "ipython",
    "version": 3
   },
   "file_extension": ".py",
   "mimetype": "text/x-python",
   "name": "python",
   "nbconvert_exporter": "python",
   "pygments_lexer": "ipython3",
   "version": "3.5.2"
  }
 },
 "nbformat": 4,
 "nbformat_minor": 1
}
