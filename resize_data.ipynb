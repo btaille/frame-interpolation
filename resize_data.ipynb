{
 "cells": [
  {
   "cell_type": "markdown",
   "metadata": {},
   "source": [
    "# Resize Raw Images"
   ]
  },
  {
   "cell_type": "code",
   "execution_count": 6,
   "metadata": {
    "collapsed": true
   },
   "outputs": [],
   "source": [
    "import cv2\n",
    "import os"
   ]
  },
  {
   "cell_type": "code",
   "execution_count": 10,
   "metadata": {
    "collapsed": true
   },
   "outputs": [],
   "source": [
    "_dataset = \"KITTI\"\n",
    "_dataset = \"SINTEL\"\n",
    "\n",
    "if _dataset == \"KITTI\":\n",
    "    _h,_w = (128,384)\n",
    "if _dataset == \"SINTEL\":\n",
    "    _h,_w = (128,256)\n",
    "\n",
    "_data_folder = \"data/%s\"%_dataset"
   ]
  },
  {
   "cell_type": "markdown",
   "metadata": {},
   "source": [
    "## SINTEL"
   ]
  },
  {
   "cell_type": "code",
   "execution_count": 18,
   "metadata": {
    "collapsed": false
   },
   "outputs": [
    {
     "name": "stdout",
     "output_type": "stream",
     "text": [
      "TEST done\n"
     ]
    }
   ],
   "source": [
    "def resize_sintel_train():\n",
    "    if _dataset == \"SINTEL\":    \n",
    "        for quality in os.listdir(_data_folder+\"/train_RAW\"):\n",
    "            if not os.path.exists(_data_folder+\"/train/\"+quality):\n",
    "                os.makedirs(_data_folder+\"/train/\"+quality)\n",
    "            for train_seq in os.listdir(_data_folder+\"/train_RAW/\"+quality):\n",
    "                if not os.path.exists(_data_folder+\"/train/\"+quality+\"/\"+train_seq):\n",
    "                        os.makedirs(_data_folder+\"/train/\"+quality+\"/\"+train_seq)\n",
    "                for img in os.listdir(_data_folder+\"/train_RAW/\"+quality+\"/\"+train_seq):                \n",
    "                    raw = cv2.imread(_data_folder+\"/train_RAW/\"+quality+\"/\"+train_seq+\"/\"+img)\n",
    "                    resized = cv2.resize(raw,(_w,_h))                \n",
    "\n",
    "                    cv2.namedWindow('resized',flags= cv2.WINDOW_NORMAL)\n",
    "                    cv2.imshow('resized',resized)\n",
    "                    cv2.imwrite(_data_folder+\"/train/\"+quality+\"/\"+train_seq+\"/\"+img,resized)\n",
    "\n",
    "                cv2.waitKey(1)\n",
    "\n",
    "    print(\"TRAIN done\")\n",
    "\n",
    "def resize_sintel_test():\n",
    "    if _dataset == \"SINTEL\":\n",
    "        for quality in os.listdir(_data_folder+\"/test_RAW\"):\n",
    "            if \".\" not in quality:\n",
    "                if not os.path.exists(_data_folder+\"/test/\"+quality):\n",
    "                    os.makedirs(_data_folder+\"/test/\"+quality)            \n",
    "                for train_seq in os.listdir(_data_folder+\"/test_RAW/\"+quality):\n",
    "                    if not os.path.exists(_data_folder+\"/test/\"+quality+\"/\"+train_seq):\n",
    "                            os.makedirs(_data_folder+\"/test/\"+quality+\"/\"+train_seq)\n",
    "                    for img in os.listdir(_data_folder+\"/test_RAW/\"+quality+\"/\"+train_seq):                \n",
    "                        raw = cv2.imread(_data_folder+\"/test_RAW/\"+quality+\"/\"+train_seq+\"/\"+img)\n",
    "                        resized = cv2.resize(raw,(_w,_h))                \n",
    "\n",
    "                        cv2.namedWindow('resized',flags= cv2.WINDOW_NORMAL)\n",
    "                        cv2.imshow('resized',resized)\n",
    "                        cv2.imwrite(_data_folder+\"/test/\"+quality+\"/\"+train_seq+\"/\"+img,resized)\n",
    "\n",
    "                    cv2.waitKey(1)\n",
    "\n",
    "    print(\"TEST done\")\n",
    "\n",
    "# resize_sintel_test()\n",
    "# resize_sintel_train()\n",
    "            "
   ]
  },
  {
   "cell_type": "markdown",
   "metadata": {},
   "source": [
    "## KITTI"
   ]
  },
  {
   "cell_type": "code",
   "execution_count": null,
   "metadata": {
    "collapsed": true
   },
   "outputs": [],
   "source": []
  }
 ],
 "metadata": {
  "kernelspec": {
   "display_name": "Python [conda root]",
   "language": "python",
   "name": "conda-root-py"
  },
  "language_info": {
   "codemirror_mode": {
    "name": "ipython",
    "version": 3
   },
   "file_extension": ".py",
   "mimetype": "text/x-python",
   "name": "python",
   "nbconvert_exporter": "python",
   "pygments_lexer": "ipython3",
   "version": "3.5.2"
  }
 },
 "nbformat": 4,
 "nbformat_minor": 1
}
