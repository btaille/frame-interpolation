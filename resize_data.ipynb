{
 "cells": [
  {
   "cell_type": "markdown",
   "metadata": {},
   "source": [
    "# Resize Raw Images"
   ]
  },
  {
   "cell_type": "code",
   "execution_count": 2,
   "metadata": {
    "collapsed": true
   },
   "outputs": [],
   "source": [
    "import cv2\n",
    "import os"
   ]
  },
  {
   "cell_type": "code",
   "execution_count": 5,
   "metadata": {
    "collapsed": true
   },
   "outputs": [],
   "source": [
    "_dataset = \"KITTI\"\n",
    "# _dataset = \"SINTEL\"\n",
    "\n",
    "if _dataset == \"KITTI\":\n",
    "    _h,_w = (128,384)\n",
    "if _dataset == \"SINTEL\":\n",
    "    _h,_w = (128,256)\n",
    "\n",
    "_data_folder = \"data/%s\"%_dataset"
   ]
  },
  {
   "cell_type": "markdown",
   "metadata": {},
   "source": [
    "## SINTEL"
   ]
  },
  {
   "cell_type": "code",
   "execution_count": 18,
   "metadata": {
    "collapsed": false
   },
   "outputs": [
    {
     "name": "stdout",
     "output_type": "stream",
     "text": [
      "TEST done\n"
     ]
    }
   ],
   "source": [
    "def resize_sintel_train():\n",
    "    if _dataset == \"SINTEL\":    \n",
    "        for quality in os.listdir(_data_folder+\"/train_RAW\"):\n",
    "            if not os.path.exists(_data_folder+\"/train/\"+quality):\n",
    "                os.makedirs(_data_folder+\"/train/\"+quality)\n",
    "            for train_seq in os.listdir(_data_folder+\"/train_RAW/\"+quality):\n",
    "                if not os.path.exists(_data_folder+\"/train/\"+quality+\"/\"+train_seq):\n",
    "                        os.makedirs(_data_folder+\"/train/\"+quality+\"/\"+train_seq)\n",
    "                for img in os.listdir(_data_folder+\"/train_RAW/\"+quality+\"/\"+train_seq):                \n",
    "                    raw = cv2.imread(_data_folder+\"/train_RAW/\"+quality+\"/\"+train_seq+\"/\"+img)\n",
    "                    resized = cv2.resize(raw,(_w,_h))                \n",
    "\n",
    "                    cv2.namedWindow('resized',flags= cv2.WINDOW_NORMAL)\n",
    "                    cv2.imshow('resized',resized)\n",
    "                    cv2.imwrite(_data_folder+\"/train/\"+quality+\"/\"+train_seq+\"/\"+img,resized)\n",
    "\n",
    "                cv2.waitKey(1)\n",
    "\n",
    "    print(\"TRAIN done\")\n",
    "\n",
    "def resize_sintel_test():\n",
    "    if _dataset == \"SINTEL\":\n",
    "        for quality in os.listdir(_data_folder+\"/test_RAW\"):\n",
    "            if \".\" not in quality:\n",
    "                if not os.path.exists(_data_folder+\"/test/\"+quality):\n",
    "                    os.makedirs(_data_folder+\"/test/\"+quality)            \n",
    "                for train_seq in os.listdir(_data_folder+\"/test_RAW/\"+quality):\n",
    "                    if not os.path.exists(_data_folder+\"/test/\"+quality+\"/\"+train_seq):\n",
    "                            os.makedirs(_data_folder+\"/test/\"+quality+\"/\"+train_seq)\n",
    "                    for img in os.listdir(_data_folder+\"/test_RAW/\"+quality+\"/\"+train_seq):                \n",
    "                        raw = cv2.imread(_data_folder+\"/test_RAW/\"+quality+\"/\"+train_seq+\"/\"+img)\n",
    "                        resized = cv2.resize(raw,(_w,_h))                \n",
    "\n",
    "                        cv2.namedWindow('resized',flags= cv2.WINDOW_NORMAL)\n",
    "                        cv2.imshow('resized',resized)\n",
    "                        cv2.imwrite(_data_folder+\"/test/\"+quality+\"/\"+train_seq+\"/\"+img,resized)\n",
    "\n",
    "                    cv2.waitKey(1)\n",
    "\n",
    "    print(\"TEST done\")\n",
    "\n",
    "# resize_sintel_test()\n",
    "# resize_sintel_train()\n",
    "            "
   ]
  },
  {
   "cell_type": "markdown",
   "metadata": {},
   "source": [
    "## KITTI"
   ]
  },
  {
   "cell_type": "code",
   "execution_count": 14,
   "metadata": {
    "collapsed": false
   },
   "outputs": [
    {
     "name": "stdout",
     "output_type": "stream",
     "text": [
      "2011_09_26_drive_0027_sync\n",
      "2011_09_26_drive_0061_sync\n"
     ]
    },
    {
     "ename": "KeyboardInterrupt",
     "evalue": "",
     "output_type": "error",
     "traceback": [
      "\u001b[0;31m---------------------------------------------------------------------------\u001b[0m",
      "\u001b[0;31mKeyboardInterrupt\u001b[0m                         Traceback (most recent call last)",
      "\u001b[0;32m<ipython-input-14-addd70162a48>\u001b[0m in \u001b[0;36m<module>\u001b[0;34m()\u001b[0m\n\u001b[1;32m     21\u001b[0m     \u001b[0mprint\u001b[0m\u001b[0;34m(\u001b[0m\u001b[0;34m\"done\"\u001b[0m\u001b[0;34m)\u001b[0m\u001b[0;34m\u001b[0m\u001b[0m\n\u001b[1;32m     22\u001b[0m \u001b[0;34m\u001b[0m\u001b[0m\n\u001b[0;32m---> 23\u001b[0;31m \u001b[0mresize_kitti\u001b[0m\u001b[0;34m(\u001b[0m\u001b[0;34m)\u001b[0m\u001b[0;34m\u001b[0m\u001b[0m\n\u001b[0m\u001b[1;32m     24\u001b[0m \u001b[0;34m\u001b[0m\u001b[0m\n\u001b[1;32m     25\u001b[0m \u001b[0;34m\u001b[0m\u001b[0m\n",
      "\u001b[0;32m<ipython-input-14-addd70162a48>\u001b[0m in \u001b[0;36mresize_kitti\u001b[0;34m()\u001b[0m\n\u001b[1;32m     15\u001b[0m                         \u001b[0mcv2\u001b[0m\u001b[0;34m.\u001b[0m\u001b[0mnamedWindow\u001b[0m\u001b[0;34m(\u001b[0m\u001b[0;34m'resized'\u001b[0m\u001b[0;34m,\u001b[0m\u001b[0mflags\u001b[0m\u001b[0;34m=\u001b[0m \u001b[0mcv2\u001b[0m\u001b[0;34m.\u001b[0m\u001b[0mWINDOW_NORMAL\u001b[0m\u001b[0;34m)\u001b[0m\u001b[0;34m\u001b[0m\u001b[0m\n\u001b[1;32m     16\u001b[0m                         \u001b[0mcv2\u001b[0m\u001b[0;34m.\u001b[0m\u001b[0mimshow\u001b[0m\u001b[0;34m(\u001b[0m\u001b[0;34m'resized'\u001b[0m\u001b[0;34m,\u001b[0m\u001b[0mresized\u001b[0m\u001b[0;34m)\u001b[0m\u001b[0;34m\u001b[0m\u001b[0m\n\u001b[0;32m---> 17\u001b[0;31m                         \u001b[0mcv2\u001b[0m\u001b[0;34m.\u001b[0m\u001b[0mimwrite\u001b[0m\u001b[0;34m(\u001b[0m\u001b[0m_data_folder\u001b[0m\u001b[0;34m+\u001b[0m\u001b[0;34m\"/kitti_resized/\"\u001b[0m\u001b[0;34m+\u001b[0m\u001b[0mdate\u001b[0m\u001b[0;34m+\u001b[0m\u001b[0;34m\"/\"\u001b[0m\u001b[0;34m+\u001b[0m\u001b[0mseq\u001b[0m\u001b[0;34m+\u001b[0m\u001b[0;34m\"/\"\u001b[0m\u001b[0;34m+\u001b[0m\u001b[0mimg\u001b[0m\u001b[0;34m,\u001b[0m\u001b[0mresized\u001b[0m\u001b[0;34m)\u001b[0m\u001b[0;34m\u001b[0m\u001b[0m\n\u001b[0m\u001b[1;32m     18\u001b[0m \u001b[0;34m\u001b[0m\u001b[0m\n\u001b[1;32m     19\u001b[0m                     \u001b[0mcv2\u001b[0m\u001b[0;34m.\u001b[0m\u001b[0mwaitKey\u001b[0m\u001b[0;34m(\u001b[0m\u001b[0;36m1\u001b[0m\u001b[0;34m)\u001b[0m\u001b[0;34m\u001b[0m\u001b[0m\n",
      "\u001b[0;31mKeyboardInterrupt\u001b[0m: "
     ]
    }
   ],
   "source": [
    "def resize_kitti():\n",
    "    if _dataset == \"KITTI\":\n",
    "        if not os.path.exists(_data_folder+\"/kitti_resized\"):\n",
    "            os.makedirs(_data_folder+\"/kitti_resized\")\n",
    "        for date in os.listdir(_data_folder+\"/kitti\"):\n",
    "            for seq in os.listdir(_data_folder+\"/kitti/\"+date):\n",
    "                print(seq)\n",
    "                if not \".txt\" in seq: \n",
    "                    if not os.path.exists(_data_folder+\"/kitti_resized/\"+date+\"/\"+seq):\n",
    "                        os.makedirs(_data_folder+\"/kitti_resized/\"+date+\"/\"+seq)\n",
    "                    for img in os.listdir(_data_folder+\"/kitti/\"+date+\"/\"+seq+\"/image_03/data\"): \n",
    "                        raw = cv2.imread(_data_folder+\"/kitti/\"+date+\"/\"+seq+\"/image_03/data/\"+img)\n",
    "                        resized = cv2.resize(raw,(_w,_h))                \n",
    "\n",
    "                        cv2.namedWindow('resized',flags= cv2.WINDOW_NORMAL)\n",
    "                        cv2.imshow('resized',resized)\n",
    "                        cv2.imwrite(_data_folder+\"/kitti_resized/\"+date+\"/\"+seq+\"/\"+img,resized)\n",
    "\n",
    "                    cv2.waitKey(1)\n",
    "\n",
    "    print(\"done\")\n",
    "    \n",
    "resize_kitti()\n",
    "                            \n",
    "                        "
   ]
  },
  {
   "cell_type": "code",
   "execution_count": null,
   "metadata": {
    "collapsed": true
   },
   "outputs": [],
   "source": []
  }
 ],
 "metadata": {
  "anaconda-cloud": {},
  "kernelspec": {
   "display_name": "Python [conda root]",
   "language": "python",
   "name": "conda-root-py"
  },
  "language_info": {
   "codemirror_mode": {
    "name": "ipython",
    "version": 3
   },
   "file_extension": ".py",
   "mimetype": "text/x-python",
   "name": "python",
   "nbconvert_exporter": "python",
   "pygments_lexer": "ipython3",
   "version": "3.5.2"
  }
 },
 "nbformat": 4,
 "nbformat_minor": 1
}
